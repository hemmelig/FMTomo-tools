{
 "cells": [
  {
   "cell_type": "markdown",
   "metadata": {},
   "source": [
    "# Generating input for FMTOMO from an ObsPy catalogue\n",
    "\n",
    "We provide here a small set of utilities that produce the required inputs for [FMTomo](http://rses.anu.edu.au/~nick/fmtomo.html) from an [ObsPy Catalog](https://docs.obspy.org/packages/autogen/obspy.core.event.Catalog.html) - namely:\n",
    "\n",
    "1. A collection of files containing phase pick information for each event;\n",
    "2. and a single control file that details all available picks."
   ]
  },
  {
   "cell_type": "code",
   "execution_count": null,
   "metadata": {
    "code_folding": [
     0
    ]
   },
   "outputs": [],
   "source": [
    "# --- Imports ---\n",
    "import pathlib\n",
    "\n",
    "import numpy as np\n",
    "import obspy\n",
    "import pandas as pd"
   ]
  },
  {
   "cell_type": "markdown",
   "metadata": {},
   "source": [
    "## Pick files\n",
    "\n",
    "***File format***\n",
    "\n",
    "The first line should contain the total number of picks, followed by rows containing:\n",
    "\n",
    "| latitude | longitude | depth | traveltime | error |\n",
    "| --- | --- | --- | --- | --- |\n",
    "| ... | ... | ... | ... | ... |\n",
    "\n",
    "for each pick."
   ]
  },
  {
   "cell_type": "markdown",
   "metadata": {},
   "source": [
    "## Control file\n",
    "If you do not want to simultaneously invert for earthquake hypocentres as well as the velocity model, we can treat the receivers as pseudo-sources. This allows us to greatly speed up the inversion as we only need to compute the forward problem for each station (order of 10s), rather than for each earthquake (order of 1000s).\n",
    "\n",
    "***File format***\n",
    "\n",
    "The first line should contain the total number of sources, followed by a source line:\n",
    "\n",
    "| latitude | longitude | depth |\n",
    "| --- | --- | --- |\n",
    "\n",
    "Then a line containing the total of picks for that source, followed by the phase and total phase count so far:\n",
    "\n",
    "| phase | phase count |\n",
    "| --- | --- |"
   ]
  },
  {
   "cell_type": "code",
   "execution_count": null,
   "metadata": {
    "code_folding": [
     0
    ]
   },
   "outputs": [],
   "source": [
    "# --- Functions ---\n",
    "def obspy2fmtomo(catalogue, stations, output_dir, phases):\n",
    "    \"\"\"\n",
    "    Generate input files for the FMTOMO software package from an ObsPy\n",
    "    catalogue.\n",
    "\n",
    "    Parameters\n",
    "    ----------\n",
    "    catalogue : `obspy.Catalog` object\n",
    "        Contains a list of `obspy.Event` objects, detailing origin times and\n",
    "        phase picks.\n",
    "    stations : `pandas.DataFrame` object\n",
    "        DataFrame containing station information (latitude/longitude/elevation\n",
    "        and a uid).\n",
    "    output_dir : str\n",
    "        Directory in which to save the output.\n",
    "    phases : list of str\n",
    "        List of phases to include in the output files.\n",
    "\n",
    "    \"\"\"\n",
    "\n",
    "    output_dir = pathlib.Path(output_dir)\n",
    "    output_dir.mkdir(exist_ok=True, parents=True)\n",
    "\n",
    "    pick_cols = [\"olat\", \"olon\", \"odep\", \"ttime\", \"ttime_err\"]\n",
    "    pick_dict = {}\n",
    "    for i, station in stations.iterrows():\n",
    "        stat = station[\"Name\"]\n",
    "        print(f\"Creating pick file for {stat}...\")\n",
    "\n",
    "        # Create DataFrames to store all picks for each phase\n",
    "        dfs = {}\n",
    "        for phase in phases:\n",
    "            dfs[phase] = pd.DataFrame(columns=pick_cols)\n",
    "\n",
    "        for event in catalogue:\n",
    "            origin = event.preferred_origin()\n",
    "            olat, olon, odep = origin.latitude, origin.longitude, origin.depth\n",
    "            otime = origin.time\n",
    "            for pick in event.picks:\n",
    "                if pick.waveform_id.station_code == stat:\n",
    "                    line = pd.DataFrame([float(olat), float(olon), float(odep),\n",
    "                                         float(pick.time - otime),\n",
    "                                         float(pick.time_errors.uncertainty)],\n",
    "                                        index=pick_cols).T\n",
    "                    phase = pick.phase_hint\n",
    "                    if phase in phases:\n",
    "                        dfs[phase] = pd.concat([dfs[phase], line])\n",
    "\n",
    "        for phase in phases:\n",
    "            out = output_dir / \"picks\"\n",
    "            out.mkdir(parents=True, exist_ok=True)\n",
    "            outfile = out / f\"{stat}.{phase}pick\"\n",
    "            out_df = dfs[phase]\n",
    "            if out_df.empty:\n",
    "                continue\n",
    "            out_df = out_df.apply(pd.to_numeric)\n",
    "            with outfile.open(\"w\") as f:\n",
    "                print(f\"{len(out_df)}\", file=f)\n",
    "                for i, pick in out_df.iterrows():\n",
    "                    print((f\"{pick.olat:.4f} {pick.olon:.4f} \"\n",
    "                           f\"{pick.odep/1000:.5f} {pick.ttime:.4f} \"\n",
    "                           f\"{pick.ttime_err:.2f}\"), file=f)\n",
    "\n",
    "        anypicks = [dfs[phase].empty for pick in phases]\n",
    "        if not np.all(anypicks):\n",
    "            pick_dict[stat] = dfs\n",
    "    print(\"Generation of pick files complete.\")\n",
    "\n",
    "    with (output_dir / \"pick.control\").open(\"w\") as f:\n",
    "        print(f\"{len(pick_dict)}\", file=f)\n",
    "        for key, value in pick_dict.items():\n",
    "            station = stations[stations[\"Name\"] == key].iloc[0]\n",
    "            stat = station[\"Name\"]\n",
    "            print((f\"{station.Latitude:.4f} \"\n",
    "                   f\"{station.Longitude:.4f} \"\n",
    "                   f\"{station.Elevation:.4f}\"), file=f)\n",
    "\n",
    "            print(f\"{len(phases)}\", file=f)\n",
    "            for phase in phases:\n",
    "                print(f\"1 1 {stat}.{phase}pick\", file=f)\n",
    "\n",
    "    stat_df = pd.DataFrame(columns=[\"Name\", \"Latitude\", \"Longitude\", \"Elevation\"])\n",
    "    for key in pick_dict.keys():\n",
    "        stat_df = pd.concat([stat_df, stations[stations[\"Name\"] == key]])\n",
    "\n",
    "    stat_df.to_csv(str(output_dir / \"stations_file.txt\"), index=False)\n"
   ]
  },
  {
   "cell_type": "markdown",
   "metadata": {},
   "source": [
    "## Creating inputs\n",
    "\n",
    "The input files should be output to the `mkmodel` directory of your FMTomo run - set below"
   ]
  },
  {
   "cell_type": "code",
   "execution_count": null,
   "metadata": {},
   "outputs": [],
   "source": [
    "mkmodel = \"/path/to/mkmodel\""
   ]
  },
  {
   "cell_type": "markdown",
   "metadata": {},
   "source": [
    "### Station files\n",
    "\n",
    "You must provide a file containing an initial list of stations. A station file for use in FMTomo is produced from those for which there exist picks in the event catalogue."
   ]
  },
  {
   "cell_type": "code",
   "execution_count": null,
   "metadata": {},
   "outputs": [],
   "source": [
    "stations = pd.read_csv(\"/path/to/station_file\")\n",
    "\n",
    "# Elevation must be in km and positive UP - apply any necessary corrections\n",
    "# Metres -> Kilometres\n",
    "# stations[\"Elevation\"] = stations[\"Elevation\"].apply(lambda x: x / 1000)\n",
    "\n",
    "# Positive-down -> Positive-up\n",
    "# stations[\"Elevation\"] = stations[\"Elevation\"].apply(lambda x: x / -1)"
   ]
  },
  {
   "cell_type": "markdown",
   "metadata": {},
   "source": [
    "### Reading in event catalogues"
   ]
  },
  {
   "cell_type": "markdown",
   "metadata": {},
   "source": [
    "#### Read events from .hyp file\n",
    "\n",
    "The .hyp file format extension is used for the outputs from NonLinLoc. ObsPy provide a parser that can read these files and build an ObsPy Catalog, which can then be parsed into the inputs for FMTomo"
   ]
  },
  {
   "cell_type": "code",
   "execution_count": null,
   "metadata": {},
   "outputs": [],
   "source": [
    "cat = obspy.read_events(\"/path/to/.hyp\")"
   ]
  },
  {
   "cell_type": "code",
   "execution_count": null,
   "metadata": {},
   "outputs": [],
   "source": [
    "print(cat)"
   ]
  },
  {
   "cell_type": "markdown",
   "metadata": {},
   "source": [
    "#### Read events from QuakeMigrate run\n",
    "\n",
    "QuakeMigrate provides a utility function that will read the outputs of a given run into an ObsPy Catalog, which can then be parsed into the inputs for FMTomo"
   ]
  },
  {
   "cell_type": "code",
   "execution_count": null,
   "metadata": {},
   "outputs": [],
   "source": [
    "import quakemigrate.export.to_obspy as obspy_catalog\n",
    "\n",
    "cat = obspy_catalog.read_quakemigrate(\"/path/to/run\")"
   ]
  },
  {
   "cell_type": "code",
   "execution_count": null,
   "metadata": {},
   "outputs": [],
   "source": [
    "print(cat)"
   ]
  },
  {
   "cell_type": "markdown",
   "metadata": {},
   "source": [
    "### Create inputs\n",
    "\n",
    "Note: Using the same output path for P and S (if run separately) will overwrite the `pick.control` file. Either make a copy or choose a different output directory."
   ]
  },
  {
   "cell_type": "code",
   "execution_count": null,
   "metadata": {},
   "outputs": [],
   "source": [
    "# P phase picks\n",
    "obspy2fmtomo(cat, stations, mkmodel, [\"P\"])"
   ]
  },
  {
   "cell_type": "code",
   "execution_count": null,
   "metadata": {},
   "outputs": [],
   "source": [
    "# S phase picks\n",
    "obspy2fmtomo(cat, stations, mkmodel, [\"S\"])"
   ]
  },
  {
   "cell_type": "code",
   "execution_count": null,
   "metadata": {},
   "outputs": [],
   "source": []
  }
 ],
 "metadata": {
  "kernelspec": {
   "display_name": "Python 3",
   "language": "python",
   "name": "python3"
  },
  "language_info": {
   "codemirror_mode": {
    "name": "ipython",
    "version": 3
   },
   "file_extension": ".py",
   "mimetype": "text/x-python",
   "name": "python",
   "nbconvert_exporter": "python",
   "pygments_lexer": "ipython3",
   "version": "3.7.8"
  },
  "toc": {
   "base_numbering": 1,
   "nav_menu": {},
   "number_sections": true,
   "sideBar": true,
   "skip_h1_title": false,
   "title_cell": "Table of Contents",
   "title_sidebar": "Contents",
   "toc_cell": false,
   "toc_position": {},
   "toc_section_display": true,
   "toc_window_display": false
  }
 },
 "nbformat": 4,
 "nbformat_minor": 2
}
